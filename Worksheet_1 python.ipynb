{
 "cells": [
  {
   "cell_type": "code",
   "execution_count": 1,
   "id": "49c5873e",
   "metadata": {},
   "outputs": [],
   "source": [
    "# Write a python program to find the factorial of a number."
   ]
  },
  {
   "cell_type": "code",
   "execution_count": 2,
   "id": "a49c43d3",
   "metadata": {},
   "outputs": [],
   "source": [
    "#solution"
   ]
  },
  {
   "cell_type": "code",
   "execution_count": 3,
   "id": "2281f81b",
   "metadata": {},
   "outputs": [
    {
     "name": "stdout",
     "output_type": "stream",
     "text": [
      "enter a number: 5\n",
      "factorial of given no is :  120\n"
     ]
    }
   ],
   "source": [
    "i = int(input(\"enter a number: \"))\n",
    "fac=1\n",
    "while(i>1):\n",
    "    fac=fac*i\n",
    "    i=i-1\n",
    "print(\"factorial of given no is : \",fac)    "
   ]
  },
  {
   "cell_type": "code",
   "execution_count": 4,
   "id": "c82cd3bb",
   "metadata": {},
   "outputs": [],
   "source": [
    "# Write a python program to find whether a number is prime or composite.\n"
   ]
  },
  {
   "cell_type": "code",
   "execution_count": 5,
   "id": "51c79f05",
   "metadata": {},
   "outputs": [
    {
     "name": "stdout",
     "output_type": "stream",
     "text": [
      "enter a number:7\n",
      "given number is a prime number\n",
      "given number is a prime number\n",
      "given number is a prime number\n",
      "given number is a prime number\n",
      "given number is a prime number\n"
     ]
    }
   ],
   "source": [
    "a = int(input(\"enter a number:\"))\n",
    "if a>1:\n",
    "    for i in range(2,a):\n",
    "        if(a%i)==0:\n",
    "            print(\"given number is a composite number\")\n",
    "            break\n",
    "        else:\n",
    "            print(\"given number is a prime number\")"
   ]
  },
  {
   "cell_type": "code",
   "execution_count": 6,
   "id": "73c91bd0",
   "metadata": {},
   "outputs": [],
   "source": [
    "# Write a python program to check whether a given string is palindrome or not."
   ]
  },
  {
   "cell_type": "code",
   "execution_count": 7,
   "id": "94b12f92",
   "metadata": {},
   "outputs": [
    {
     "name": "stdout",
     "output_type": "stream",
     "text": [
      "enter sequence: nitin\n",
      "palindrome\n"
     ]
    }
   ],
   "source": [
    "a=input(\"enter sequence: \")\n",
    "b=a[::-1]\n",
    "if a==b:\n",
    "    print(\"palindrome\")\n",
    "else:\n",
    "    print(\" not palindrome\")\n",
    "    "
   ]
  },
  {
   "cell_type": "code",
   "execution_count": 8,
   "id": "92cb8c48",
   "metadata": {},
   "outputs": [],
   "source": [
    "# Write a Python program to get the third side of right-angled triangle from two given sides."
   ]
  },
  {
   "cell_type": "code",
   "execution_count": 9,
   "id": "714f6ec5",
   "metadata": {},
   "outputs": [
    {
     "name": "stdout",
     "output_type": "stream",
     "text": [
      "enter the one side of triangle3\n",
      "enter the another side of triangle4\n",
      "the third side of triangle is:  5.0\n"
     ]
    }
   ],
   "source": [
    "from math import sqrt\n",
    "b=float(input(\"enter the one side of triangle\"))\n",
    "p=float(input(\"enter the another side of triangle\"))\n",
    "c=sqrt(b**2+p**2)\n",
    "print(\"the third side of triangle is: \",c)"
   ]
  },
  {
   "cell_type": "code",
   "execution_count": 10,
   "id": "7133566b",
   "metadata": {},
   "outputs": [],
   "source": [
    "# Write a python program to print the frequency of each of the characters present in a given string"
   ]
  },
  {
   "cell_type": "code",
   "execution_count": 11,
   "id": "b954ddb3",
   "metadata": {},
   "outputs": [
    {
     "name": "stdout",
     "output_type": "stream",
     "text": [
      "Enter a word :datascience\n",
      "2\n",
      "0\n",
      "2\n",
      "1\n",
      "2\n",
      "0\n",
      "0\n",
      "0\n",
      "1\n",
      "0\n",
      "0\n",
      "0\n",
      "0\n",
      "1\n",
      "0\n",
      "0\n",
      "0\n",
      "0\n",
      "1\n",
      "1\n",
      "0\n",
      "0\n",
      "0\n",
      "0\n",
      "0\n",
      "0\n"
     ]
    }
   ],
   "source": [
    "word = input(\"Enter a word :\")\n",
    "\n",
    "Alphabet=['a','b','c','d','e','f','g','h','i','j','k','l','m','n','o','p','q','r','s','t','u','v','w','x','y','z']\n",
    "\n",
    "for i in range(0,26):\n",
    "    print(word.count(Alphabet[i]))"
   ]
  },
  {
   "cell_type": "code",
   "execution_count": null,
   "id": "677c868f",
   "metadata": {},
   "outputs": [],
   "source": []
  }
 ],
 "metadata": {
  "kernelspec": {
   "display_name": "Python 3 (ipykernel)",
   "language": "python",
   "name": "python3"
  },
  "language_info": {
   "codemirror_mode": {
    "name": "ipython",
    "version": 3
   },
   "file_extension": ".py",
   "mimetype": "text/x-python",
   "name": "python",
   "nbconvert_exporter": "python",
   "pygments_lexer": "ipython3",
   "version": "3.9.12"
  }
 },
 "nbformat": 4,
 "nbformat_minor": 5
}
